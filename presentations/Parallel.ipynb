{
 "cells": [
  {
   "cell_type": "markdown",
   "metadata": {},
   "source": [
    "# Parallelization with Julia."
   ]
  },
  {
   "cell_type": "markdown",
   "metadata": {},
   "source": [
    "### Getting started."
   ]
  },
  {
   "cell_type": "markdown",
   "metadata": {},
   "source": [
    "We will start by adding $n$ processes using function $\\textit{addprocs(n)}$. When parallelizing, work will be distributed among processes. \n",
    "\n",
    "Every process has its own identification. A list of id's of available processes can be obtained with function $\\textit{procs()}$. The total number of available processes can be obtained with function $\\textit{nprocs()}$."
   ]
  },
  {
   "cell_type": "code",
   "execution_count": 2,
   "metadata": {
    "collapsed": false
   },
   "outputs": [
    {
     "name": "stdout",
     "output_type": "stream",
     "text": [
      "[1,2,3,4,5,6]\n",
      "6\n"
     ]
    }
   ],
   "source": [
    "addprocs(5)\n",
    "println(procs())\n",
    "println(nprocs())"
   ]
  },
  {
   "cell_type": "markdown",
   "metadata": {},
   "source": [
    "However, to many processes will imply a lot of communication between processes, decreasing the performance. Function $\\textit{rmprocs(v)}$ can be used to remove processes with id's contained in $v$.\n"
   ]
  },
  {
   "cell_type": "code",
   "execution_count": 3,
   "metadata": {
    "collapsed": false
   },
   "outputs": [
    {
     "data": {
      "text/plain": [
       ":ok"
      ]
     },
     "execution_count": 3,
     "metadata": {},
     "output_type": "execute_result"
    }
   ],
   "source": [
    "rmprocs(5:6)"
   ]
  },
  {
   "cell_type": "code",
   "execution_count": 4,
   "metadata": {
    "collapsed": false
   },
   "outputs": [
    {
     "name": "stdout",
     "output_type": "stream",
     "text": [
      "[1"
     ]
    },
    {
     "data": {
      "text/plain": [
       "3-element Array{Int64,1}:\n",
       " 2\n",
       " 3\n",
       " 4"
      ]
     },
     "execution_count": 4,
     "metadata": {},
     "output_type": "execute_result"
    },
    {
     "name": "stdout",
     "output_type": "stream",
     "text": [
      ",2,3,4]\n"
     ]
    }
   ],
   "source": [
    "println(procs())\n",
    "workers()"
   ]
  },
  {
   "cell_type": "markdown",
   "metadata": {},
   "source": [
    "### Now we will show how some \"embarrasingly paralleliziable\" functions would look like. "
   ]
  },
  {
   "cell_type": "markdown",
   "metadata": {},
   "source": [
    "First example is tossing a coin, and counting how many heads we get."
   ]
  },
  {
   "cell_type": "code",
   "execution_count": 6,
   "metadata": {
    "collapsed": false
   },
   "outputs": [
    {
     "name": "stdout",
     "output_type": "stream",
     "text": [
      " 21.863490 seconds (400.00 M allocations: 5.960 GB, 3.34% gc time)\n"
     ]
    }
   ],
   "source": [
    "nheads = Int64(0);\n",
    "@time for i=1:4e8\n",
    "    nheads += Int(rand(Bool))\n",
    "end"
   ]
  },
  {
   "cell_type": "markdown",
   "metadata": {},
   "source": [
    "We can do better"
   ]
  },
  {
   "cell_type": "code",
   "execution_count": 7,
   "metadata": {
    "collapsed": false
   },
   "outputs": [
    {
     "data": {
      "text/plain": [
       "count_heads (generic function with 1 method)"
      ]
     },
     "execution_count": 7,
     "metadata": {},
     "output_type": "execute_result"
    }
   ],
   "source": [
    "function count_heads(n::Int64)\n",
    "    c::Int64 = 0\n",
    "    for i=1:n\n",
    "        c += Int(rand(Bool))\n",
    "    end\n",
    "    c\n",
    "end"
   ]
  },
  {
   "cell_type": "code",
   "execution_count": 9,
   "metadata": {
    "collapsed": false
   },
   "outputs": [
    {
     "name": "stdout",
     "output_type": "stream",
     "text": [
      "  "
     ]
    },
    {
     "data": {
      "text/plain": [
       "200014190"
      ]
     },
     "execution_count": 9,
     "metadata": {},
     "output_type": "execute_result"
    },
    {
     "name": "stdout",
     "output_type": "stream",
     "text": [
      "2.138496 seconds (6 allocations: 192 bytes)\n"
     ]
    }
   ],
   "source": [
    "@time count_heads(Int64(4e8))"
   ]
  },
  {
   "cell_type": "markdown",
   "metadata": {},
   "source": [
    "We can do even better if we parallelize the code. The $\\textit{@parallel}$ macro distributes work among available processes, and the reduction function $(+)$ will group the computed work into a final result."
   ]
  },
  {
   "cell_type": "code",
   "execution_count": 11,
   "metadata": {
    "collapsed": false,
    "scrolled": true
   },
   "outputs": [
    {
     "name": "stdout",
     "output_type": "stream",
     "text": [
      "  "
     ]
    },
    {
     "data": {
      "text/plain": [
       "200019059"
      ]
     },
     "execution_count": 11,
     "metadata": {},
     "output_type": "execute_result"
    },
    {
     "name": "stdout",
     "output_type": "stream",
     "text": [
      "1.574346 seconds (4.57 k allocations: 320.975 KB)\n"
     ]
    }
   ],
   "source": [
    "@time nheads = @parallel (+) for i=1:4e8\n",
    "  Int(rand(Bool))\n",
    "end"
   ]
  },
  {
   "cell_type": "markdown",
   "metadata": {},
   "source": [
    "As using functions improve the performance, we can try to combine it with $\\textit{@parallel for}$.\n",
    "\n",
    "Something to keep in mind, is that every process has to be able to run the functions we need. Every package should be called by all processes, every function and type should be run in all processes. For that purpose, we have the macro $\\textit{@everywhere}$."
   ]
  },
  {
   "cell_type": "code",
   "execution_count": 12,
   "metadata": {
    "collapsed": true
   },
   "outputs": [],
   "source": [
    "@everywhere function count_heads(n::Int64)\n",
    "    c::Int64 = 0\n",
    "    for i=1:n\n",
    "        c += Int(rand(Bool))\n",
    "    end\n",
    "    c\n",
    "end"
   ]
  },
  {
   "cell_type": "code",
   "execution_count": 14,
   "metadata": {
    "collapsed": false
   },
   "outputs": [
    {
     "name": "stdout",
     "output_type": "stream",
     "text": [
      "  "
     ]
    },
    {
     "data": {
      "text/plain": [
       "199988219"
      ]
     },
     "execution_count": 14,
     "metadata": {},
     "output_type": "execute_result"
    },
    {
     "name": "stdout",
     "output_type": "stream",
     "text": [
      "1.569074 seconds (4.49 k allocations: 312.838 KB)\n"
     ]
    }
   ],
   "source": [
    "@time nheads = @parallel (+) for i=1:4\n",
    "    count_heads(Int64(1e8))\n",
    "end"
   ]
  },
  {
   "cell_type": "markdown",
   "metadata": {},
   "source": [
    "We can also use function $\\textit{pmap(f,v)}$ to apply function $f$ to all elements in $v$, using all processes in the same way as $\\textit{@parallel}$. \n",
    "\n",
    "$\\textit{pmap}$ is intended to be used when $f$ is a complex function and $\\textit{length(v)}$ is small, whereas $\\textit{@parallel for}$ should be used when tasks are simple and the number of tasks is large. "
   ]
  },
  {
   "cell_type": "code",
   "execution_count": 15,
   "metadata": {
    "collapsed": false
   },
   "outputs": [
    {
     "name": "stdout",
     "output_type": "stream",
     "text": [
      "Any[0.8621947868406267,0.8208619301085898,0.6728495227447142,0.8212105904843707,0.4880690024195767,0.3648453575417017,0.7170022853868998,0.9432472351396324,0.8877457345601799,0.4629096974162006]\n"
     ]
    }
   ],
   "source": [
    "v = rand(10)\n",
    "a = pmap(sqrt, v)\n",
    "println(a)"
   ]
  },
  {
   "cell_type": "markdown",
   "metadata": {},
   "source": [
    "We can compare the performance of $\\textit{pmap}$ with the performance of $\\textit{@parallel for}$ with functions."
   ]
  },
  {
   "cell_type": "code",
   "execution_count": 17,
   "metadata": {
    "collapsed": false
   },
   "outputs": [
    {
     "name": "stdout",
     "output_type": "stream",
     "text": [
      "  "
     ]
    },
    {
     "data": {
      "text/plain": [
       "4-element Array{Any,1}:\n",
       " 49998050\n",
       " 50000602\n",
       " 49995506\n",
       " 50000205"
      ]
     },
     "execution_count": 17,
     "metadata": {},
     "output_type": "execute_result"
    },
    {
     "name": "stdout",
     "output_type": "stream",
     "text": [
      "1.517635 seconds (666 allocations: 45.609 KB)\n"
     ]
    }
   ],
   "source": [
    "v = [Int64(1e8) for i in 1:4]\n",
    "@time nheads = pmap(count_heads, v)"
   ]
  },
  {
   "cell_type": "markdown",
   "metadata": {},
   "source": [
    "### Shared arrays."
   ]
  },
  {
   "cell_type": "markdown",
   "metadata": {},
   "source": [
    "If we wish to modify an array in parallel, every process should be able to access the array. For that reason, we have the type $\\textit{SharedArray}$. It works in the same way as a regular $\\textit{Array}$, but every process will have access to it."
   ]
  },
  {
   "cell_type": "code",
   "execution_count": 19,
   "metadata": {
    "collapsed": false
   },
   "outputs": [
    {
     "data": {
      "text/plain": [
       "3-element Array{Any,1}:\n",
       " Future(2,1,42,Nullable{Any}())\n",
       " Future(3,1,43,Nullable{Any}())\n",
       " Future(4,1,44,Nullable{Any}())"
      ]
     },
     "execution_count": 19,
     "metadata": {},
     "output_type": "execute_result"
    }
   ],
   "source": [
    "workspace() # removes all variables\n",
    "a = zeros(10)\n",
    "@parallel for i=1:10\n",
    "    a[i] = i\n",
    "end"
   ]
  },
  {
   "cell_type": "code",
   "execution_count": 20,
   "metadata": {
    "collapsed": false
   },
   "outputs": [
    {
     "data": {
      "text/plain": [
       "10-element Array{Float64,1}:\n",
       " 0.0\n",
       " 0.0\n",
       " 0.0\n",
       " 0.0\n",
       " 0.0\n",
       " 0.0\n",
       " 0.0\n",
       " 0.0\n",
       " 0.0\n",
       " 0.0"
      ]
     },
     "execution_count": 20,
     "metadata": {},
     "output_type": "execute_result"
    }
   ],
   "source": [
    "fetch(a)"
   ]
  },
  {
   "cell_type": "code",
   "execution_count": 21,
   "metadata": {
    "collapsed": false
   },
   "outputs": [
    {
     "data": {
      "text/plain": [
       "3-element Array{Any,1}:\n",
       " Future(2,1,51,Nullable{Any}())\n",
       " Future(3,1,52,Nullable{Any}())\n",
       " Future(4,1,53,Nullable{Any}())"
      ]
     },
     "execution_count": 21,
     "metadata": {},
     "output_type": "execute_result"
    }
   ],
   "source": [
    "workspace()\n",
    "a = SharedArray(Float64,10)\n",
    "@parallel for i=1:10\n",
    "  a[i] = i\n",
    "end\n"
   ]
  },
  {
   "cell_type": "code",
   "execution_count": 22,
   "metadata": {
    "collapsed": false
   },
   "outputs": [
    {
     "name": "stdout",
     "output_type": "stream",
     "text": [
      "SharedArray{Float64,1}\n",
      "[1.0,2.0,3.0,4.0,5.0,6.0,7.0,8.0,9.0,10.0]\n",
      "5.0\n"
     ]
    }
   ],
   "source": [
    "println(typeof(a))\n",
    "println(a)\n",
    "println(a[5])"
   ]
  },
  {
   "cell_type": "markdown",
   "metadata": {},
   "source": [
    "If we really need to recover the $\\textit{Array}$ type, we can use the function $\\textit{sdata}$."
   ]
  },
  {
   "cell_type": "code",
   "execution_count": 23,
   "metadata": {
    "collapsed": false
   },
   "outputs": [
    {
     "name": "stdout",
     "output_type": "stream",
     "text": [
      "[1.0,2.0,3.0,4.0,5.0,6.0,7.0,8.0,9.0,10.0]\n",
      "Array{Float64,1}\n"
     ]
    }
   ],
   "source": [
    "b = sdata(a)\n",
    "println(b)\n",
    "println(typeof(b))"
   ]
  },
  {
   "cell_type": "markdown",
   "metadata": {
    "collapsed": false
   },
   "source": [
    "### Parallelization at a lower level"
   ]
  },
  {
   "cell_type": "markdown",
   "metadata": {
    "collapsed": true
   },
   "source": [
    "Sometimes, for a better performance, it is good to know how $\\textit{@parallel for}$ and $\\textit{pmap}$ work. For example, if we want to distribute unpredictable or unbalanced tasks among all processes, we want to assign tasks to processes as soon as jobs are done ($\\textit{dynamic scheduling}$).\n",
    "\n",
    "The function $\\textit{remotecall(f, i, ...)}$ is called and performed immediatly on one process, and the result is to apply function $f(...)$ on the process $i$. The macro $\\textit{@spawnat}$ evaluates the expression provided in the second argument in the process with id provided in the first argument.\n",
    "\n",
    "The result of a $\\textit{remotecall}$ or a $\\textit{@spawnat}$ is of type $\\textit{Future}$; the full value of a $\\textit{Future}$ can be obtained using function $\\textit{fetch}$."
   ]
  },
  {
   "cell_type": "code",
   "execution_count": 24,
   "metadata": {
    "collapsed": false
   },
   "outputs": [
    {
     "data": {
      "text/plain": [
       "Future(2,1,54,Nullable{Any}())"
      ]
     },
     "execution_count": 24,
     "metadata": {},
     "output_type": "execute_result"
    }
   ],
   "source": [
    "workspace()\n",
    "r = remotecall(rand, 2, 2, 2) # Parameters are: function to be called, process to be used, \n",
    "                              #                          ... (extra parameters to be passed to function)"
   ]
  },
  {
   "cell_type": "code",
   "execution_count": 25,
   "metadata": {
    "collapsed": false
   },
   "outputs": [
    {
     "data": {
      "text/plain": [
       "Future(3,1,55,Nullable{Any}())"
      ]
     },
     "execution_count": 25,
     "metadata": {},
     "output_type": "execute_result"
    }
   ],
   "source": [
    "s = @spawnat 3 1 .+ fetch(r) # Parameters are: process to be used, task to be run in the selected worker."
   ]
  },
  {
   "cell_type": "code",
   "execution_count": 26,
   "metadata": {
    "collapsed": false
   },
   "outputs": [
    {
     "data": {
      "text/plain": [
       "2x2 Array{Float64,2}:\n",
       " 1.32116  1.28082\n",
       " 1.20993  1.30656"
      ]
     },
     "execution_count": 26,
     "metadata": {},
     "output_type": "execute_result"
    }
   ],
   "source": [
    "fetch(s)"
   ]
  },
  {
   "cell_type": "markdown",
   "metadata": {},
   "source": [
    "The function $\\textit{remotecall_fetch}$ yields the same result as $\\textit{fetch(remotecall( ))}$, but it is more efficient.\n",
    "\n",
    "Also, to make things easier, we can use the macro $\\textit{@spawn}$. It works the same as $\\textit{@spawnat}$, but it will pick the process where to evaluate the expression automatically.\n",
    "\n",
    "We can also make use of function $\\textit{wait()}$ on a returned $\\textit{Future}$ to wait for a remote call to finish, and then make decisions and continue computations with the task already finished."
   ]
  },
  {
   "cell_type": "markdown",
   "metadata": {},
   "source": [
    "### Performance tips"
   ]
  },
  {
   "cell_type": "markdown",
   "metadata": {},
   "source": [
    "The ultimate goal of parallelization is to obtain a better performance of our code. So, we can not avoid a small reference to performance tips, to really have an optimal code."
   ]
  },
  {
   "cell_type": "markdown",
   "metadata": {},
   "source": [
    "####  · Use macro $\\textit{@time}$ and pay attention to memory allocation\n",
    "\n",
    "Not only the time per run is important, a very large amount of memory allocation is a sign of a non optimal code.\n",
    "Several other tools can be used to explore the code and optimise it ($\\textit{Profiling, ProfileView, @code_warntype, Lint, TypeCheck}$ and more)."
   ]
  },
  {
   "cell_type": "markdown",
   "metadata": {},
   "source": [
    "#### · Be consistent with variable types\n",
    "\n",
    "Julia is very smart with variable type management, as it can change variable types to adapt to what we are doing (i.e. changing from an abstract type to $\\textit{Float64}$ when computing). However, this takes a lot of time. Being consistent with our variable types will improve the code performance. Some things to be aware of when coding are:\n",
    "\n",
    "- If we define a variable whose type will not change, we should declare its type when declaring the variable.\n",
    "- We should declare variable types of local variables inside functions we define (keyword arguments).\n",
    "- Returned values of the functions we define should never change of type (type-stable functions).\n",
    "- Etc..."
   ]
  },
  {
   "cell_type": "markdown",
   "metadata": {},
   "source": [
    "#### · Avoid the use of global variables\n",
    "\n",
    "This leads to divide our code in pieces, where each piece can be written as a function. This also helps to write a friendly code (easier to mantain, reuse and understand)."
   ]
  },
  {
   "cell_type": "markdown",
   "metadata": {},
   "source": [
    "#### · Access arrays memory order, along columns\n",
    "\n",
    "If we plan to access to every entry of a multidimensional array (say a matrix), the optimal way to do it is to respect the order in which the language orders the array in memory. In the case of Julia, it is better to explore a matrix by columns. Different languages may have different conventions."
   ]
  },
  {
   "cell_type": "markdown",
   "metadata": {},
   "source": [
    "#### · Pre-allocate outputs\n",
    "\n",
    "If we run a function that builds several variables (for example, several matrices) but we do not need to store them  (for example, building random matrices and adding them), we can overwrite a variable to use less memory."
   ]
  }
 ],
 "metadata": {
  "kernelspec": {
   "display_name": "Julia 0.5.0-dev",
   "language": "julia",
   "name": "julia-0.5"
  },
  "language_info": {
   "file_extension": ".jl",
   "mimetype": "application/julia",
   "name": "julia",
   "version": "0.5.0"
  }
 },
 "nbformat": 4,
 "nbformat_minor": 0
}
