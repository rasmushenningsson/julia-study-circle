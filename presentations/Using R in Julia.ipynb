{
 "cells": [
  {
   "cell_type": "markdown",
   "metadata": {},
   "source": [
    "#Using R in Julia\n",
    "##Why use R in Julia?\n",
    "Julia is a very fast and intuitive programming language, yet\n",
    "1. it is still young\n",
    "2. it is not yet the favourite programming language for statisticians.\n",
    "Therefore, one might want, from time to time, to use an R function that performs a given test which is not yet implemented in Julia.\n"
   ]
  },
  {
   "cell_type": "markdown",
   "metadata": {},
   "source": [
    "##How to use R in Julia\n",
    "There are thus far, to my knowledge, two packages which can be used in Julia to call R:\n",
    "- \"Rif\", which dates from 2012 and has not been updated since; it is obsolete and I don't recommend it;\n",
    "- \"RCall\", which works quite nicely, and will be presented herein.\n",
    "\n",
    "Author said: *\"It is written entirely in Julia. There is absolutely no \"glue\" code written in a compiled language like C or C++. As I said, this may not mean much to you unless you have tried to do something like this, in which case it is astonishing.\"*\n",
    "\n",
    "###RCall requirements and installation\n",
    "RCall requires that a recent version of R, at least 3.2.0, be installed. Packages can be there already or can be installed later. \n",
    "In Juliabox, R is already installed. However, only the default libraries are installed, and it is, to my knowledge, not possible to install new libraries on Juliabox.\n",
    "If R has been installed, it is possible to install RCall.jl from within Julia, using"
   ]
  },
  {
   "cell_type": "code",
   "execution_count": 18,
   "metadata": {
    "collapsed": false
   },
   "outputs": [
    {
     "name": "stderr",
     "output_type": "stream",
     "text": [
      "INFO: Nothing to be done\n"
     ]
    }
   ],
   "source": [
    "Pkg.add(\"RCall\")"
   ]
  },
  {
   "cell_type": "markdown",
   "metadata": {},
   "source": [
    "If you have updated the R installation, you may need to rebuild RCall via"
   ]
  },
  {
   "cell_type": "code",
   "execution_count": 19,
   "metadata": {
    "collapsed": true
   },
   "outputs": [],
   "source": [
    "Pkg.build(\"RCall\")"
   ]
  },
  {
   "cell_type": "markdown",
   "metadata": {},
   "source": [
    "Start using RCall using"
   ]
  },
  {
   "cell_type": "code",
   "execution_count": null,
   "metadata": {
    "collapsed": true
   },
   "outputs": [],
   "source": [
    "using(RCall)"
   ]
  },
  {
   "cell_type": "markdown",
   "metadata": {},
   "source": [
    "##Simple R expressions and R outputs: playing in R independently of Julia\n",
    "\n",
    "###Basics: the rprint function \n",
    "Everything you run will be \"added\" as if you were running an R console. "
   ]
  },
  {
   "cell_type": "code",
   "execution_count": 2,
   "metadata": {
    "collapsed": false
   },
   "outputs": [
    {
     "name": "stdout",
     "output_type": "stream",
     "text": [
      "[1] 3\n"
     ]
    }
   ],
   "source": [
    "rprint(\"1+2\")"
   ]
  },
  {
   "cell_type": "code",
   "execution_count": 4,
   "metadata": {
    "collapsed": false
   },
   "outputs": [
    {
     "name": "stdout",
     "output_type": "stream",
     "text": [
      "[1] 0.78097673 0.07217773 0.44840792\n"
     ]
    }
   ],
   "source": [
    "rprint(\"a=rnorm(3)\")"
   ]
  },
  {
   "cell_type": "code",
   "execution_count": 3,
   "metadata": {
    "collapsed": false
   },
   "outputs": [
    {
     "name": "stdout",
     "output_type": "stream",
     "text": [
      "[1] \"MASS\"      \"stats\"     \"graphics\"  \"grDevices\" \"utils\"     \"datasets\" \n",
      "[7] \"methods\"   \"base\"     \n"
     ]
    }
   ],
   "source": [
    "rprint(\"library(MASS)\")"
   ]
  },
  {
   "cell_type": "code",
   "execution_count": 6,
   "metadata": {
    "collapsed": false
   },
   "outputs": [
    {
     "name": "stdout",
     "output_type": "stream",
     "text": [
      "\n",
      "Call:\n",
      "lm(formula = bwt ~ ., data = birthwt)\n",
      "\n",
      "Coefficients:\n",
      "(Intercept)          low          age          lwt         race        smoke  \n",
      "   3612.508    -1131.217       -6.245        1.051     -100.905     -174.116  \n",
      "        ptl           ht           ui          ftv  \n",
      "     81.340     -181.955     -336.776       -7.578  \n",
      "\n"
     ]
    }
   ],
   "source": [
    "rprint(\"fit = lm(bwt ~ ., data = birthwt)\")"
   ]
  },
  {
   "cell_type": "code",
   "execution_count": 7,
   "metadata": {
    "collapsed": false
   },
   "outputs": [
    {
     "name": "stdout",
     "output_type": "stream",
     "text": [
      "\n",
      "Call:\n",
      "lm(formula = bwt ~ ., data = birthwt)\n",
      "\n",
      "Coefficients:\n",
      "(Intercept)          low          age          lwt         race        smoke  \n",
      "   3612.508    -1131.217       -6.245        1.051     -100.905     -174.116  \n",
      "        ptl           ht           ui          ftv  \n",
      "     81.340     -181.955     -336.776       -7.578  \n",
      "\n"
     ]
    }
   ],
   "source": [
    "rprint(\"fit\")"
   ]
  },
  {
   "cell_type": "markdown",
   "metadata": {},
   "source": [
    "the latter being equivalent to"
   ]
  },
  {
   "cell_type": "code",
   "execution_count": 8,
   "metadata": {
    "collapsed": false
   },
   "outputs": [
    {
     "name": "stdout",
     "output_type": "stream",
     "text": [
      "\n",
      "Call:\n",
      "lm(formula = bwt ~ ., data = birthwt)\n",
      "\n",
      "Coefficients:\n",
      "(Intercept)          low          age          lwt         race        smoke  \n",
      "   3612.508    -1131.217       -6.245        1.051     -100.905     -174.116  \n",
      "        ptl           ht           ui          ftv  \n",
      "     81.340     -181.955     -336.776       -7.578  \n",
      "\n"
     ]
    }
   ],
   "source": [
    "rprint(:fit)"
   ]
  },
  {
   "cell_type": "markdown",
   "metadata": {},
   "source": [
    "###Confusing syntax\n",
    "Beware: one cannot use the $ sign as is, but should use \\$ instead."
   ]
  },
  {
   "cell_type": "code",
   "execution_count": 9,
   "metadata": {
    "collapsed": false
   },
   "outputs": [
    {
     "name": "stdout",
     "output_type": "stream",
     "text": [
      " [1] \"assign\"        \"call\"          \"coefficients\"  \"df.residual\"  \n",
      " [5] \"effects\"       \"fitted.values\" \"model\"         \"qr\"           \n",
      " [9] \"rank\"          \"residuals\"     \"terms\"         \"xlevels\"      \n"
     ]
    },
    {
     "ename": "LoadError",
     "evalue": "LoadError: RCall.jl Error: object 'fitStatsBase.fitted.values' not found\n\nwhile loading In[9], in expression starting on line 2",
     "output_type": "error",
     "traceback": [
      "LoadError: RCall.jl Error: object 'fitStatsBase.fitted.values' not found\n\nwhile loading In[9], in expression starting on line 2",
      ""
     ]
    }
   ],
   "source": [
    "rprint(\"ls(fit)\")\n",
    "rprint(\"fit$fitted.values\")"
   ]
  },
  {
   "cell_type": "code",
   "execution_count": 10,
   "metadata": {
    "collapsed": false
   },
   "outputs": [
    {
     "name": "stdout",
     "output_type": "stream",
     "text": [
      "      85       86       87       88       89       91       92       93 \n",
      "3146.460 3243.797 3315.309 2967.862 3000.703 3308.908 3490.591 3304.250 \n",
      "      94       95       96       97       98       99      100      101 \n",
      "3278.010 3293.819 3290.933 3341.136 3090.242 2964.248 3330.125 3330.125 \n",
      "     102      103      104      105      106      107      108      109 \n",
      "3419.971 3282.584 2974.175 3281.104 3221.901 3063.541 3491.402 3260.988 \n",
      "     111      112      113      114      115      116      117      118 \n",
      "2927.793 3512.174 3359.483 3472.913 3250.694 3415.661 3415.661 3355.909 \n",
      "     119      120      121      123      124      125      126      127 \n",
      "3218.871 3510.726 3385.882 3288.292 3348.645 3299.129 3354.593 3238.320 \n",
      "     128      129      130      131      132      133      134      135 \n",
      "3284.625 3576.340 3396.048 3548.538 2982.843 2982.843 3420.112 3329.803 \n",
      "     136      137      138      139      140      141      142      143 \n",
      "3467.371 3087.575 3310.738 3300.619 3336.660 3234.771 3311.944 3325.428 \n",
      "     144      145      146      147      148      149      150      151 \n",
      "2783.308 3283.165 3293.092 3328.637 3328.637 3276.009 3275.464 3483.809 \n",
      "     154      155      156      159      160      161      162      163 \n",
      "3275.699 3099.414 3265.561 3177.978 3353.148 3505.471 3480.429 3084.497 \n",
      "     164      166      167      168      169      170      172      173 \n",
      "3105.268 3428.434 3379.385 3538.858 3494.967 3329.436 3238.791 3567.564 \n",
      "     174      175      176      177      179      180      181      182 \n",
      "3504.249 3490.344 3237.991 3318.305 3295.367 3155.572 3301.438 3504.530 \n",
      "     183      184      185      186      187      188      189      190 \n",
      "3470.615 3497.945 3501.437 3304.258 3283.750 3188.397 3379.385 3464.733 \n",
      "     191      192      193      195      196      197      199      200 \n",
      "3484.693 3373.256 3373.256 3460.588 3469.696 3230.171 3356.803 3475.942 \n",
      "     201      202      203      204      205      206      207      208 \n",
      "3310.951 3325.792 3434.325 3551.747 3335.981 3459.055 3491.997 3315.864 \n",
      "     209      210      211      212      213      214      215      216 \n",
      "3277.786 3084.065 3391.173 3268.118 3565.992 3271.493 3466.379 3302.091 \n",
      "     217      218      219      220      221      222      223      224 \n",
      "3545.105 3315.501 3493.685 3509.725 3476.884 3428.906 3545.369 3344.891 \n",
      "     225      226        4       10       11       13       15       16 \n",
      "3475.999 3352.199 1700.219 1983.910 1907.520 2032.134 1774.962 2167.533 \n",
      "      17       18       19       20       22       23       24       25 \n",
      "1792.482 2337.824 1985.405 2058.926 2116.725 2009.111 2143.255 2207.644 \n",
      "      26       27       28       29       30       31       32       33 \n",
      "2146.786 2223.790 2006.507 2300.556 2155.630 1848.212 2271.042 2353.725 \n",
      "      34       35       36       37       40       42       43       44 \n",
      "1868.494 2248.144 2375.473 1779.424 2083.791 1942.429 1910.651 1626.821 \n",
      "      45       46       47       49       50       51       52       54 \n",
      "2215.659 2206.511 2168.179 2221.641 2189.849 1953.043 2203.507 2117.049 \n",
      "      56       57       59       60       61       62       63       65 \n",
      "2193.581 2402.266 2150.597 2108.625 2065.784 1868.933 2160.998 2249.426 \n",
      "      67       68       69       71       75       76       77       78 \n",
      "2197.866 2203.432 2259.526 2284.221 2069.788 2141.243 2243.495 2104.470 \n",
      "      79       81       82       83       84 \n",
      "2116.046 2181.041 1959.568 2140.534 2007.001 \n"
     ]
    }
   ],
   "source": [
    "rprint(\"fit\\$fitted.values\")"
   ]
  },
  {
   "cell_type": "markdown",
   "metadata": {},
   "source": [
    "Also, \" \" (double quotes) and ' ' (single quotes) are synonyms in R, but not in Julia. Inside an rprint, use ' ' for character strings."
   ]
  },
  {
   "cell_type": "code",
   "execution_count": null,
   "metadata": {
    "collapsed": true
   },
   "outputs": [],
   "source": [
    "rprint(\"a=\"ch\"\")"
   ]
  },
  {
   "cell_type": "markdown",
   "metadata": {},
   "source": [
    "does not work, contrary to"
   ]
  },
  {
   "cell_type": "code",
   "execution_count": null,
   "metadata": {
    "collapsed": true
   },
   "outputs": [],
   "source": [
    "rprint(\"a='ch'\")"
   ]
  },
  {
   "cell_type": "markdown",
   "metadata": {},
   "source": [
    "###Libraries\n",
    "Libraries can simply be added as if in R. It can't work in Juliabox though.\n",
    "###Plots\n",
    "Plots from R can also be drawn."
   ]
  },
  {
   "cell_type": "code",
   "execution_count": 4,
   "metadata": {
    "collapsed": false
   },
   "outputs": [
    {
     "data": {
      "image/png": "[encoded data removed]"
     },
     "metadata": {},
     "output_type": "display_data"
    },
    {
     "name": "stdout",
     "output_type": "stream",
     "text": [
      "NULL\n"
     ]
    }
   ],
   "source": [
    "rprint(\"plot(1:10,runif(10), xlab='x', ylab='y')\")"
   ]
  },
  {
   "cell_type": "markdown",
   "metadata": {
    "collapsed": false
   },
   "source": [
    "It also works for ggplot."
   ]
  },
  {
   "cell_type": "markdown",
   "metadata": {
    "collapsed": true
   },
   "source": [
    "###The reval function\n",
    "The function **reval** returns, on top of the raw R output, the type of R object that is returned.\n",
    "R types (in Julia) are all of the forme Rcall.XXXSxp. Examples:\n",
    "- Rcall.StrSxp: string vector\n",
    "- Rcall.IntSxp: integer vector\n",
    "- RCall.RealSxp: real vector\n",
    "- RCall.NilSxp: R NULL value\n",
    "- RCall.VecSxp: R list (i.e. Array{Any,1})"
   ]
  },
  {
   "cell_type": "code",
   "execution_count": 4,
   "metadata": {
    "collapsed": false
   },
   "outputs": [
    {
     "data": {
      "text/plain": [
       "RCall.RObject{RCall.VecSxp}\n",
       "\n",
       "Call:\n",
       "lm(formula = bwt ~ ., data = birthwt)\n",
       "\n",
       "Coefficients:\n",
       "(Intercept)          low          age          lwt         race        smoke  \n",
       "   3612.508    -1131.217       -6.245        1.051     -100.905     -174.116  \n",
       "        ptl           ht           ui          ftv  \n",
       "     81.340     -181.955     -336.776       -7.578  \n",
       "\n"
      ]
     },
     "execution_count": 4,
     "metadata": {},
     "output_type": "execute_result"
    }
   ],
   "source": [
    "reval(\"fit = lm(bwt ~ ., data = birthwt)\")"
   ]
  },
  {
   "cell_type": "markdown",
   "metadata": {},
   "source": [
    "##Converting Julia objects to R objects\n",
    "\n",
    "To see what kind of object you will get from a Julia object, use RObject.\n",
    "\n"
   ]
  },
  {
   "cell_type": "code",
   "execution_count": 5,
   "metadata": {
    "collapsed": false
   },
   "outputs": [
    {
     "data": {
      "text/plain": [
       "RCall.RObject{RCall.IntSxp}\n",
       "[1] 1\n"
      ]
     },
     "execution_count": 5,
     "metadata": {},
     "output_type": "execute_result"
    }
   ],
   "source": [
    "RObject(1)"
   ]
  },
  {
   "cell_type": "code",
   "execution_count": 6,
   "metadata": {
    "collapsed": false
   },
   "outputs": [
    {
     "data": {
      "text/plain": [
       "RCall.RObject{RCall.IntSxp}\n",
       "[1] 1 2 3\n"
      ]
     },
     "execution_count": 6,
     "metadata": {},
     "output_type": "execute_result"
    }
   ],
   "source": [
    "RObject([1,2,3])"
   ]
  },
  {
   "cell_type": "code",
   "execution_count": 7,
   "metadata": {
    "collapsed": false
   },
   "outputs": [
    {
     "data": {
      "text/plain": [
       "RCall.RObject{RCall.IntSxp}\n",
       "[1] 1 2 3\n"
      ]
     },
     "execution_count": 7,
     "metadata": {},
     "output_type": "execute_result"
    }
   ],
   "source": [
    "RObject(1:3)"
   ]
  },
  {
   "cell_type": "markdown",
   "metadata": {},
   "source": [
    "However, RObject does not assign the value to an R variable. For example"
   ]
  },
  {
   "cell_type": "code",
   "execution_count": 8,
   "metadata": {
    "collapsed": false
   },
   "outputs": [
    {
     "ename": "LoadError",
     "evalue": "LoadError: RCall.jl Error: object 'a' not found\n\nwhile loading In[8], in expression starting on line 2",
     "output_type": "error",
     "traceback": [
      "LoadError: RCall.jl Error: object 'a' not found\n\nwhile loading In[8], in expression starting on line 2",
      "",
      " in error at error.jl:22",
      " in reval_p at /home/juser/.julia/v0.4/RCall/src/iface.jl:14",
      " in rprint at /home/juser/.julia/v0.4/RCall/src/iface.jl:115",
      " in rprint at /home/juser/.julia/v0.4/RCall/src/iface.jl:107"
     ]
    }
   ],
   "source": [
    "a = RObject([1,2,3])\n",
    "rprint(:a)"
   ]
  },
  {
   "cell_type": "markdown",
   "metadata": {},
   "source": [
    "Instead, one should use **@rput**, which copies a Julia variable (that can be of relatively \"any\" Julia type) to an R variable with the same name. The variable is then \"run\" in R."
   ]
  },
  {
   "cell_type": "code",
   "execution_count": 10,
   "metadata": {
    "collapsed": false
   },
   "outputs": [
    {
     "data": {
      "text/plain": [
       "3-element Array{Int64,1}:\n",
       " 1\n",
       " 2\n",
       " 3"
      ]
     },
     "execution_count": 10,
     "metadata": {},
     "output_type": "execute_result"
    }
   ],
   "source": [
    "a = [1,2,3]\n",
    "@rput(a)"
   ]
  },
  {
   "cell_type": "code",
   "execution_count": 11,
   "metadata": {
    "collapsed": false
   },
   "outputs": [
    {
     "name": "stdout",
     "output_type": "stream",
     "text": [
      "[1] 1 2 3\n"
     ]
    }
   ],
   "source": [
    "rprint(:a)"
   ]
  },
  {
   "cell_type": "markdown",
   "metadata": {},
   "source": [
    "##Converting R objects to Julia objects"
   ]
  },
  {
   "cell_type": "code",
   "execution_count": 12,
   "metadata": {
    "collapsed": false
   },
   "outputs": [
    {
     "data": {
      "text/plain": [
       "1.0"
      ]
     },
     "execution_count": 12,
     "metadata": {},
     "output_type": "execute_result"
    }
   ],
   "source": [
    "rcopy(\"1\")"
   ]
  },
  {
   "cell_type": "code",
   "execution_count": 13,
   "metadata": {
    "collapsed": false
   },
   "outputs": [
    {
     "data": {
      "text/plain": [
       "3-element Array{Float64,1}:\n",
       " 0.367911\n",
       " 0.190173\n",
       " 0.308766"
      ]
     },
     "execution_count": 13,
     "metadata": {},
     "output_type": "execute_result"
    }
   ],
   "source": [
    "rcopy(\"runif(3)\")"
   ]
  },
  {
   "cell_type": "code",
   "execution_count": 14,
   "metadata": {
    "collapsed": false
   },
   "outputs": [
    {
     "data": {
      "text/plain": [
       "3-element Array{Int32,1}:\n",
       " 1\n",
       " 2\n",
       " 3"
      ]
     },
     "execution_count": 14,
     "metadata": {},
     "output_type": "execute_result"
    }
   ],
   "source": [
    "rcopy(:a)"
   ]
  },
  {
   "cell_type": "code",
   "execution_count": 15,
   "metadata": {
    "collapsed": false
   },
   "outputs": [
    {
     "data": {
      "text/plain": [
       "3-element Array{Int32,1}:\n",
       " 1\n",
       " 2\n",
       " 3"
      ]
     },
     "execution_count": 15,
     "metadata": {},
     "output_type": "execute_result"
    }
   ],
   "source": [
    "rcopy(\"1:3\")"
   ]
  },
  {
   "cell_type": "code",
   "execution_count": 17,
   "metadata": {
    "collapsed": false
   },
   "outputs": [
    {
     "data": {
      "text/plain": [
       "3-element Array{Float64,1}:\n",
       " 1.0\n",
       " 2.0\n",
       " 3.0"
      ]
     },
     "execution_count": 17,
     "metadata": {},
     "output_type": "execute_result"
    }
   ],
   "source": [
    "rcopy(\"c(1,2,3)\")"
   ]
  },
  {
   "cell_type": "markdown",
   "metadata": {},
   "source": [
    "One can force the (Julia) destination type:"
   ]
  },
  {
   "cell_type": "code",
   "execution_count": 19,
   "metadata": {
    "collapsed": false
   },
   "outputs": [
    {
     "data": {
      "text/plain": [
       "3-element Array{Int64,1}:\n",
       " 1\n",
       " 2\n",
       " 3"
      ]
     },
     "execution_count": 19,
     "metadata": {},
     "output_type": "execute_result"
    }
   ],
   "source": [
    "rcopy(Array{Int64,1},\"c(1,2,3)\")"
   ]
  },
  {
   "cell_type": "markdown",
   "metadata": {},
   "source": [
    "But not every R type can be converted to a Julia type."
   ]
  },
  {
   "cell_type": "code",
   "execution_count": 20,
   "metadata": {
    "collapsed": false
   },
   "outputs": [
    {
     "data": {
      "text/plain": [
       "Dict{Symbol,Any} with 12 entries:\n",
       "  symbol(\"fitted.values\") => [3146.46,3243.8,3315.31,2967.86,3000.7,3308.91,349…\n",
       "  :model                  => 189x10 DataFrames.DataFrame…\n",
       "  :xlevels                => Dict{Symbol,Any}()\n",
       "  :effects                => [-40481.4,-7846.86,-30.4752,546.067,-829.545,-1036…\n",
       "  :assign                 => Int32[0,1,2,3,4,5,6,7,8,9]\n",
       "  :coefficients           => [3612.5084754236923,-1131.2165220078946,-6.2454473…\n",
       "  :rank                   => 10\n",
       "  :residuals              => [-623.46,-692.797,-758.309,-373.862,-400.703,-686.…\n",
       "  :qr                     => Dict{Symbol,Any}(:pivot=>Int32[1,2,3,4,5,6,7,8,9,1…\n",
       "  :terms                  => Ptr{RCall.LangSxp} @0x00000000035c4e20\n",
       "  symbol(\"df.residual\")   => 179\n",
       "  :call                   => Ptr{RCall.LangSxp} @0x0000000004ed2d20"
      ]
     },
     "execution_count": 20,
     "metadata": {},
     "output_type": "execute_result"
    }
   ],
   "source": [
    "rcopy(:fit)"
   ]
  },
  {
   "cell_type": "markdown",
   "metadata": {},
   "source": [
    "We usually do not want the whole object but are interested in a few values, that can be extracted then converted. \n"
   ]
  },
  {
   "cell_type": "code",
   "execution_count": 21,
   "metadata": {
    "collapsed": false
   },
   "outputs": [
    {
     "data": {
      "text/plain": [
       "189-element Array{Float64,1}:\n",
       " 3146.46\n",
       " 3243.8 \n",
       " 3315.31\n",
       " 2967.86\n",
       " 3000.7 \n",
       " 3308.91\n",
       " 3490.59\n",
       " 3304.25\n",
       " 3278.01\n",
       " 3293.82\n",
       " 3290.93\n",
       " 3341.14\n",
       " 3090.24\n",
       "    ⋮   \n",
       " 2203.43\n",
       " 2259.53\n",
       " 2284.22\n",
       " 2069.79\n",
       " 2141.24\n",
       " 2243.49\n",
       " 2104.47\n",
       " 2116.05\n",
       " 2181.04\n",
       " 1959.57\n",
       " 2140.53\n",
       " 2007.0 "
      ]
     },
     "execution_count": 21,
     "metadata": {},
     "output_type": "execute_result"
    }
   ],
   "source": [
    "rcopy(\"fit\\$fitted.values\")"
   ]
  },
  {
   "cell_type": "markdown",
   "metadata": {},
   "source": [
    "Similarly to @rput, there is an **@rget**, that allows to copy an R variable to Julia (with the same name).\n"
   ]
  },
  {
   "cell_type": "code",
   "execution_count": 22,
   "metadata": {
    "collapsed": false
   },
   "outputs": [
    {
     "data": {
      "text/plain": [
       "189-element Array{Float64,1}:\n",
       " 3146.46\n",
       " 3243.8 \n",
       " 3315.31\n",
       " 2967.86\n",
       " 3000.7 \n",
       " 3308.91\n",
       " 3490.59\n",
       " 3304.25\n",
       " 3278.01\n",
       " 3293.82\n",
       " 3290.93\n",
       " 3341.14\n",
       " 3090.24\n",
       "    ⋮   \n",
       " 2203.43\n",
       " 2259.53\n",
       " 2284.22\n",
       " 2069.79\n",
       " 2141.24\n",
       " 2243.49\n",
       " 2104.47\n",
       " 2116.05\n",
       " 2181.04\n",
       " 1959.57\n",
       " 2140.53\n",
       " 2007.0 "
      ]
     },
     "execution_count": 22,
     "metadata": {},
     "output_type": "execute_result"
    }
   ],
   "source": [
    "reval(\"b = fit\\$fitted.values\")\n",
    "@rget(b)"
   ]
  },
  {
   "cell_type": "markdown",
   "metadata": {},
   "source": [
    "##Tip: creating small functions that take and return Julia arguments\n",
    "\n",
    "One does not want to code entire parts of their Julia code in R. Therefore, it seems a good idea to create small functions that take and return Julia arguments and that call R in between. Consequently, the rest of the code is R-free."
   ]
  },
  {
   "cell_type": "code",
   "execution_count": 11,
   "metadata": {
    "collapsed": false
   },
   "outputs": [
    {
     "data": {
      "text/plain": [
       "correlation (generic function with 4 methods)"
      ]
     },
     "execution_count": 11,
     "metadata": {},
     "output_type": "execute_result"
    }
   ],
   "source": [
    "function correlation(x::Array{Float64,1},y::Array{Float64,1},method)\n",
    "    @rput(x,y,method)\n",
    "    reval(\"res = cor.test(x,y,method=method)\\$p.value\")\n",
    "    @rget(res)\n",
    "end"
   ]
  },
  {
   "cell_type": "code",
   "execution_count": 16,
   "metadata": {
    "collapsed": false
   },
   "outputs": [
    {
     "data": {
      "text/plain": [
       "0.3333333333333333"
      ]
     },
     "execution_count": 16,
     "metadata": {},
     "output_type": "execute_result"
    }
   ],
   "source": [
    "correlation([1.0,2.0,3.0],[1.0,2.0,3.0],\"spearman\")"
   ]
  },
  {
   "cell_type": "code",
   "execution_count": 20,
   "metadata": {
    "collapsed": false
   },
   "outputs": [
    {
     "data": {
      "text/plain": [
       "0.1627759086331455"
      ]
     },
     "execution_count": 20,
     "metadata": {},
     "output_type": "execute_result"
    }
   ],
   "source": [
    "correlation(rand(10),rand(10),\"pearson\")"
   ]
  },
  {
   "cell_type": "markdown",
   "metadata": {},
   "source": [
    "##Other (potentially) interesting functions\n",
    "\n",
    "**rcall(fun, args)** allows to call an R function, passing parameters that are Julia objects, and returning an R object. I don't particularly recommend it, for it is not clear how the Julia objects were converted and I would rather not mix Julia and R objects on a same command line. "
   ]
  },
  {
   "cell_type": "code",
   "execution_count": 24,
   "metadata": {
    "collapsed": false
   },
   "outputs": [
    {
     "data": {
      "image/png": "[encoded data removed]"
     },
     "metadata": {},
     "output_type": "display_data"
    },
    {
     "data": {
      "text/plain": [
       "RCall.RObject{RCall.NilSxp}\n",
       "NULL\n"
      ]
     },
     "execution_count": 24,
     "metadata": {},
     "output_type": "execute_result"
    }
   ],
   "source": [
    "X = rand(10)\n",
    "rcall(:plot, X, sin(5*X), xlab=\"x\", ylab=\"y\")"
   ]
  },
  {
   "cell_type": "markdown",
   "metadata": {},
   "source": [
    "##Resources\n",
    "- all RCall functions and types: http://rcalljl.readthedocs.org/en/latest/api/RCall/\n",
    "- some examples: http://www.r-bloggers.com/monthofjulia-day-25-interfacing-with-other-languages/, https://cloud.sagemath.com/projects/a6645bae-a4ce-4c6a-8a3a-0928abe239c8/files/2015-04-13-133603.html"
   ]
  }
 ],
 "metadata": {
  "kernelspec": {
   "display_name": "Julia 0.4.3",
   "language": "julia",
   "name": "julia-0.4"
  },
  "language_info": {
   "file_extension": ".jl",
   "mimetype": "application/julia",
   "name": "julia",
   "version": "0.4.3"
  }
 },
 "nbformat": 4,
 "nbformat_minor": 0
}
